{
 "cells": [
  {
   "cell_type": "markdown",
   "id": "b28ea1ef-59a9-4def-a943-d310ffb3d41a",
   "metadata": {},
   "source": [
    "Author: Diego Sierra Guevara"
   ]
  },
  {
   "cell_type": "markdown",
   "id": "cd3e14b0-2035-4a31-879d-5be81dcf66a6",
   "metadata": {},
   "source": [
    "Data Science Tools and Ecosystem"
   ]
  },
  {
   "cell_type": "markdown",
   "id": "b949f197-8c7a-482d-ae15-e86a33825eeb",
   "metadata": {},
   "source": [
    "In this notebook, Data Science Tools and Ecosystem are explained."
   ]
  },
  {
   "cell_type": "markdown",
   "id": "7f83825a-24e5-45ea-9ea1-132bb8e9125e",
   "metadata": {},
   "source": [
    "Some of the popular languages that Data Scientists usually use are:\n",
    "1. Python\n",
    "2. R\n",
    "3. SQL"
   ]
  },
  {
   "cell_type": "markdown",
   "id": "7e2a1944-69f9-4a93-a78b-278847eb220f",
   "metadata": {},
   "source": [
    "Objectives:\n",
    "•Describe the components of a Data Scientist's toolkit and list various tool categories\n",
    "•List examples of Open Source, Commercial, and Cloud-based tools in various categories\n",
    "•Identify the criteria and roles for determining the language to learn.\n",
    "•Identify the users and benefits of Python.\n",
    "•Identify the users and uses of the R language."
   ]
  },
  {
   "cell_type": "markdown",
   "id": "a1a83c59-14f2-4ed6-894d-fb90ec51b972",
   "metadata": {},
   "source": [
    "Some of the commonly used libraries used by Data Scientists include:\n",
    "1. Matplotlib\n",
    "2. Pandas\n",
    "3. Numpy"
   ]
  },
  {
   "cell_type": "markdown",
   "id": "3ace1f3b-f567-486e-b0ef-776e0e6a143b",
   "metadata": {},
   "source": [
    "Data Science Tools. \n",
    "SAS\n",
    "Apache Hadoop\n",
    "BigML"
   ]
  },
  {
   "attachments": {},
   "cell_type": "markdown",
   "id": "eaf88950-d4b1-4efa-ac1b-445440024d32",
   "metadata": {},
   "source": [
    "Below are a few examples of evaluating arithmetic expressions in Python.\n",
    "# Arithmetic operations\n",
    "code = compile(\"5 + 4\", \"<string>\", \"eval\")\n",
    "eval(code)\n",
    "# Result: 9\n",
    "code1 = compile(\"(5 + 7) * 2\", \"<string>\", \"eval\")\n",
    "eval(code1)\n",
    "# Result: 24"
   ]
  },
  {
   "cell_type": "markdown",
   "id": "9e545820-0250-4de3-aa89-169963c83bff",
   "metadata": {},
   "source": [
    "This a simple arithmetic expression to mutiply then add integers."
   ]
  },
  {
   "cell_type": "code",
   "execution_count": 1,
   "id": "8abbf4c9-a081-4b0a-8f8b-4a2862836184",
   "metadata": {},
   "outputs": [
    {
     "data": {
      "text/plain": [
       "17"
      ]
     },
     "execution_count": 1,
     "metadata": {},
     "output_type": "execute_result"
    }
   ],
   "source": [
    "(3*4)+5"
   ]
  },
  {
   "cell_type": "markdown",
   "id": "dc0ed9d4-7654-4263-bd7c-5164a582797a",
   "metadata": {
    "jupyter": {
     "source_hidden": true
    }
   },
   "source": [
    "This will convert 200 minutes to hours by diving by 60."
   ]
  },
  {
   "cell_type": "code",
   "execution_count": 2,
   "id": "56470dcf-9aa4-468f-b8cc-f8b433704a40",
   "metadata": {
    "scrolled": true
   },
   "outputs": [
    {
     "data": {
      "text/plain": [
       "3.3333333333333335"
      ]
     },
     "execution_count": 2,
     "metadata": {},
     "output_type": "execute_result"
    }
   ],
   "source": [
    "200/60\n"
   ]
  }
 ],
 "metadata": {
  "kernelspec": {
   "display_name": "Python 3 (ipykernel)",
   "language": "python",
   "name": "python3"
  },
  "language_info": {
   "codemirror_mode": {
    "name": "ipython",
    "version": 3
   },
   "file_extension": ".py",
   "mimetype": "text/x-python",
   "name": "python",
   "nbconvert_exporter": "python",
   "pygments_lexer": "ipython3",
   "version": "3.12.8"
  }
 },
 "nbformat": 4,
 "nbformat_minor": 5
}
